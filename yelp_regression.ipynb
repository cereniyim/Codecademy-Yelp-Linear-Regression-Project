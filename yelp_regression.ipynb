{
 "cells": [
  {
   "cell_type": "markdown",
   "metadata": {},
   "source": [
    "# Project: Yelp Rating Regression Predictor\n",
    "\n",
    "The restaurant industry is tougher than ever, with restaurant reviews blazing across the Internet from day one of a restaurant's opening. But as a lover of food, you and your friend decide to break into the industry and open up your own restaurant, Danielle's Delicious Delicacies. Since a restaurant's success is highly correlated with its reputation, you want to make sure Danielle's Delicious Delicacies has the best reviews on the most queried restaurant review site: Yelp! While you know your food will be delicious, you think there are other factors that play into a Yelp rating and will ultimately determine your business's success. With a dataset of different restaurant features and their Yelp ratings, you decide to use a Multiple Linear Regression model to investigate what factors most affect a restaurant's Yelp rating and predict the Yelp rating for your restaurant!\n",
    "\n",
    "In this project we'll be working with a real dataset provided by Yelp. We have provided six files, listed below with a brief description:\n",
    "* `yelp_business.json`: establishment data regarding location and attributes for all businesses in the dataset\n",
    "* `yelp_review.json`: Yelp review metadata by business\n",
    "* `yelp_user.json`: user profile metadata by business\n",
    "* `yelp_checkin.json`: online checkin metadata by business\n",
    "* `yelp_tip.json`: tip metadata by business\n",
    "* `yelp_photo.json`: photo metadata by business\n",
    "\n",
    "For a more detailed explanation of the features in each `.json` file, see the accompanying [explanatory feature document](https://docs.google.com/document/d/1V6FjJpKspVBOOBs4E7fBfp_yzHn0--XJkC2uUtWuRgM/edit).\n",
    "\n",
    "Let's get started by exploring the data in each of these files to see what we are working with."
   ]
  },
  {
   "cell_type": "markdown",
   "metadata": {},
   "source": [
    "## Load the Data and Take a Peek\n",
    "\n",
    "To get a better understanding of the dataset we can use Pandas to explore the data in DataFrame form. In the code block below we have imported Pandas for you. The `read_json()` method reads data from a json file into a DataFrame, as shown below:\n",
    "```python\n",
    "df = pd.read_json('file_name.json', lines=True)\n",
    "```\n",
    "Load the data from each of the json files with the following naming conventions:\n",
    "* `yelp_business.json` into a DataFrame named `businesses`\n",
    "* `yelp_review.json` into a DataFrame named `reviews`\n",
    "* `yelp_user.json` into a DataFrame named `users`\n",
    "* `yelp_checkin.json` into a DataFrame named `checkins`\n",
    "* `yelp_tip.json` into a DataFrame named `tips`\n",
    "* `yelp_photo.json` into a DataFrame named `photos`\n",
    "\n",
    "Importing that data could take 10 to 20 seconds to run depending on your computer, but don't worry, once it's loaded in you're ready to go!"
   ]
  },
  {
   "cell_type": "code",
   "execution_count": 2,
   "metadata": {},
   "outputs": [],
   "source": [
    "import pandas as pd\n",
    "business = pd.read_json(\"yelp_business.json\", lines=True)\n",
    "review = pd.read_json(\"yelp_review.json\", lines=True)\n",
    "user = pd.read_json(\"yelp_user.json\", lines=True)\n",
    "checkin = pd.read_json(\"yelp_checkin.json\", lines=True)\n",
    "tip = pd.read_json(\"yelp_tip.json\", lines=True)\n",
    "photo = pd.read_json(\"yelp_photo.json\", lines=True)"
   ]
  },
  {
   "cell_type": "markdown",
   "metadata": {},
   "source": [
    "In order to more clearly see the information in our DataFrame, we can adjust the number of columns shown (`max_columns`) and the number of characters shown in a column (`max_colwidth`) with the below code:\n",
    "\n",
    "```python\n",
    "pd.options.display.max_columns = number_of_columns_to_display\n",
    "pd.options.display.max_colwidth = number_of_characters_to_display\n",
    "```\n",
    "\n",
    "Set `max_columns` to `60` and `max_colwidth` to `500`. We are working with some BIG data here!"
   ]
  },
  {
   "cell_type": "code",
   "execution_count": 3,
   "metadata": {
    "ExecuteTime": {
     "end_time": "2018-09-14T14:51:21.351977Z",
     "start_time": "2018-09-14T14:51:21.349551Z"
    }
   },
   "outputs": [],
   "source": [
    "pd.options.display.max_columns = 60\n",
    "pd.options.display.max_colwidth = 500"
   ]
  },
  {
   "cell_type": "markdown",
   "metadata": {},
   "source": [
    "Inspect the first five rows of each DataFrame using the `.head()` method to get an overview of the data (make sure to check each DataFrame in a separate cell in order to view it properly)."
   ]
  },
  {
   "cell_type": "code",
   "execution_count": 4,
   "metadata": {
    "ExecuteTime": {
     "end_time": "2018-09-14T14:51:21.392763Z",
     "start_time": "2018-09-14T14:51:21.354525Z"
    },
    "scrolled": true
   },
   "outputs": [
    {
     "name": "stdout",
     "output_type": "stream",
     "text": [
      "               address  alcohol?  \\\n",
      "0    1314 44 Avenue NE         0   \n",
      "1                              0   \n",
      "2  1335 rue Beaubien E         1   \n",
      "3      211 W Monroe St         0   \n",
      "4  2005 Alyth Place SE         0   \n",
      "\n",
      "                                                                                                                                                                                                                                                                                                                                                                                                                                                                                                            attributes  \\\n",
      "0                    {u'BusinessParking': u'{'garage': False, 'street': True, 'validated': False, 'lot': False, 'valet': False}', u'HasTV': u'True', u'RestaurantsGoodForGroups': u'True', u'NoiseLevel': u'average', u'RestaurantsAttire': u'casual', u'RestaurantsReservations': u'True', u'OutdoorSeating': u'False', u'BusinessAcceptsCreditCards': u'True', u'RestaurantsPriceRange2': u'2', u'BikeParking': u'False', u'RestaurantsDelivery': u'False', u'RestaurantsTakeOut': u'True', u'GoodForKids': u'True'}   \n",
      "1  {u'RestaurantsTableService': u'False', u'GoodForMeal': u'{'dessert': False, 'latenight': False, 'lunch': False, 'dinner': False, 'breakfast': False, 'brunch': False}', u'DogsAllowed': u'True', u'Alcohol': u'none', u'Caters': u'True', u'HasTV': u'False', u'RestaurantsGoodForGroups': u'True', u'WiFi': u'no', u'RestaurantsAttire': u'casual', u'RestaurantsReservations': u'False', u'OutdoorSeating': u'True', u'BusinessAcceptsCreditCards': u'True', u'RestaurantsPriceRange2': u'2', u'WheelchairAcce...   \n",
      "2  {u'RestaurantsTableService': u'True', u'GoodForMeal': u'{'dessert': False, 'latenight': False, 'lunch': False, 'dinner': False, 'breakfast': False, 'brunch': False}', u'Alcohol': u'beer_and_wine', u'Caters': u'False', u'HasTV': u'True', u'RestaurantsGoodForGroups': u'True', u'NoiseLevel': u'average', u'WiFi': u'free', u'RestaurantsAttire': u'casual', u'RestaurantsReservations': u'True', u'OutdoorSeating': u'False', u'BusinessAcceptsCreditCards': u'False', u'RestaurantsPriceRange2': u'2', u'B...   \n",
      "3                                                                                                                                                                                                                                                                                                                                                                                                                                                                                                                 None   \n",
      "4                                                                                                                                                                                                                                                                                                                                                                                                                                                                             {u'BusinessAcceptsCreditCards': u'True'}   \n",
      "\n",
      "              business_id  \\\n",
      "0  Apn5Q_b6Nz61Tq4XzPdf9A   \n",
      "1  AjEbIBw6ZFfln7ePHha9PA   \n",
      "2  O8S5hYJ1SMc8fA4QBtVujA   \n",
      "3  bFzdJJ3wp3PZssNEsyU23g   \n",
      "4  8USyCYqpScwiNEb58Bt6CA   \n",
      "\n",
      "                                                                                                              categories  \\\n",
      "0                                                            Tours, Breweries, Pizza, Restaurants, Food, Hotels & Travel   \n",
      "1  Chicken Wings, Burgers, Caterers, Street Vendors, Barbeque, Food Trucks, Food, Restaurants, Event Planning & Services   \n",
      "2                                                             Breakfast & Brunch, Restaurants, French, Sandwiches, Cafes   \n",
      "3                                                                                          Insurance, Financial Services   \n",
      "4                         Home & Garden, Nurseries & Gardening, Shopping, Local Services, Automotive, Electronics Repair   \n",
      "\n",
      "        city  good_for_kids  has_bike_parking  has_wifi  \\\n",
      "0    Calgary              1                 0         0   \n",
      "1  Henderson              1                 0         0   \n",
      "2   Montréal              1                 1         1   \n",
      "3    Phoenix              0                 0         0   \n",
      "4    Calgary              0                 0         0   \n",
      "\n",
      "                                                                                                                                                                                     hours  \\\n",
      "0                           {u'Monday': u'8:30-17:0', u'Tuesday': u'11:0-21:0', u'Friday': u'11:0-21:0', u'Wednesday': u'11:0-21:0', u'Thursday': u'11:0-21:0', u'Saturday': u'11:0-21:0'}   \n",
      "1                                                                                                            {u'Sunday': u'17:0-23:0', u'Friday': u'17:0-23:0', u'Saturday': u'17:0-23:0'}   \n",
      "2  {u'Monday': u'10:0-22:0', u'Tuesday': u'10:0-22:0', u'Friday': u'10:0-22:0', u'Wednesday': u'10:0-22:0', u'Thursday': u'10:0-22:0', u'Sunday': u'10:0-22:0', u'Saturday': u'10:0-22:0'}   \n",
      "3                                                                                                                                                                                     None   \n",
      "4                                                           {u'Friday': u'8:0-17:0', u'Tuesday': u'8:0-17:0', u'Thursday': u'8:0-17:0', u'Wednesday': u'8:0-17:0', u'Monday': u'8:0-17:0'}   \n",
      "\n",
      "   is_open   latitude   longitude                  name  \\\n",
      "0        1  51.091813 -114.031675  Minhas Micro Brewery   \n",
      "1        0  35.960734 -114.939821   CK'S BBQ & Catering   \n",
      "2        0  45.540503  -73.599300         La Bastringue   \n",
      "3        1  33.449999 -112.076979       Geico Insurance   \n",
      "4        1  51.035591 -114.027366         Action Engine   \n",
      "\n",
      "                neighborhood postal_code  price_range  review_count  stars  \\\n",
      "0                                T2E 6L6            2            24    4.0   \n",
      "1                                  89002            2             3    4.5   \n",
      "2  Rosemont-La Petite-Patrie     H2G 1K7            2             5    4.0   \n",
      "3                                  85003            0             8    1.5   \n",
      "4                                T2H 0N5            0             4    2.0   \n",
      "\n",
      "  state  take_reservations  takes_credit_cards  \n",
      "0    AB                  1                   1  \n",
      "1    NV                  0                   1  \n",
      "2    QC                  1                   0  \n",
      "3    AZ                  0                   0  \n",
      "4    AB                  0                   1  \n"
     ]
    }
   ],
   "source": [
    "print(business.head())"
   ]
  },
  {
   "cell_type": "code",
   "execution_count": 5,
   "metadata": {
    "ExecuteTime": {
     "end_time": "2018-09-14T14:51:21.407101Z",
     "start_time": "2018-09-14T14:51:21.394695Z"
    }
   },
   "outputs": [
    {
     "name": "stdout",
     "output_type": "stream",
     "text": [
      "   average_review_age  average_review_length  average_review_sentiment  \\\n",
      "0          524.458333             466.208333                  0.808638   \n",
      "1         1199.589744             785.205128                  0.669126   \n",
      "2          717.851852             536.592593                  0.820837   \n",
      "3          751.750000             478.250000                  0.170925   \n",
      "4          978.727273             436.181818                  0.562264   \n",
      "\n",
      "              business_id  number_cool_votes  number_funny_votes  \\\n",
      "0  --1UhMGODdWsrMastO9DZw                 16                   1   \n",
      "1  --6MefnULPED_I942VcFNA                 32                  27   \n",
      "2  --7zmmkVg-IMGaXbuVd0SQ                 52                  29   \n",
      "3  --8LPVSo5i0Oo61X01sV9A                  0                   0   \n",
      "4  --9QQLMTbFzLJ_oT-ON3Xw                  4                   3   \n",
      "\n",
      "   number_useful_votes  \n",
      "0                   15  \n",
      "1                   53  \n",
      "2                   81  \n",
      "3                    9  \n",
      "4                    7  \n"
     ]
    }
   ],
   "source": [
    "print(review.head())"
   ]
  },
  {
   "cell_type": "code",
   "execution_count": 6,
   "metadata": {
    "ExecuteTime": {
     "end_time": "2018-09-14T14:51:21.419331Z",
     "start_time": "2018-09-14T14:51:21.409377Z"
    }
   },
   "outputs": [
    {
     "name": "stdout",
     "output_type": "stream",
     "text": [
      "   average_days_on_yelp  average_number_fans  average_number_friends  \\\n",
      "0           1789.750000             1.833333               18.791667   \n",
      "1           2039.948718            49.256410              214.564103   \n",
      "2           1992.796296            19.222222              126.185185   \n",
      "3           2095.750000             0.500000               25.250000   \n",
      "4           1804.636364             1.000000               52.454545   \n",
      "\n",
      "   average_number_years_elite  average_review_count             business_id  \n",
      "0                    0.833333             57.541667  --1UhMGODdWsrMastO9DZw  \n",
      "1                    1.769231            332.743590  --6MefnULPED_I942VcFNA  \n",
      "2                    1.814815            208.962963  --7zmmkVg-IMGaXbuVd0SQ  \n",
      "3                    0.000000              7.500000  --8LPVSo5i0Oo61X01sV9A  \n",
      "4                    0.090909             34.636364  --9QQLMTbFzLJ_oT-ON3Xw  \n"
     ]
    }
   ],
   "source": [
    "print(user.head())"
   ]
  },
  {
   "cell_type": "code",
   "execution_count": 7,
   "metadata": {
    "ExecuteTime": {
     "end_time": "2018-09-14T14:51:21.433534Z",
     "start_time": "2018-09-14T14:51:21.421393Z"
    },
    "scrolled": true
   },
   "outputs": [
    {
     "name": "stdout",
     "output_type": "stream",
     "text": [
      "              business_id  \\\n",
      "0  7KPBkxAOEtb3QeIL9PEErg   \n",
      "1  kREVIrSBbtqBhIYkTccQUg   \n",
      "2  tJRDll5yqpZwehenzE2cSg   \n",
      "3  tZccfdl6JNw-j5BKnCTIQQ   \n",
      "4  r1p7RAMzCV_6NPF0dNoR3g   \n",
      "\n",
      "                                                                                                                                                                                                                                                                                                                                                                                                                                                                                                                  time  \\\n",
      "0  {u'Sun-18': 1, u'Fri-18': 1, u'Sun-16': 1, u'Fri-16': 1, u'Sun-14': 1, u'Fri-14': 2, u'Sun-10': 3, u'Fri-10': 3, u'Fri-19': 3, u'Sun-19': 2, u'Fri-17': 1, u'Sun-17': 1, u'Fri-15': 1, u'Thu-19': 1, u'Thu-18': 1, u'Thu-16': 1, u'Thu-15': 2, u'Thu-13': 1, u'Thu-11': 1, u'Sun-6': 1, u'Thu-7': 1, u'Thu-4': 1, u'Thu-2': 1, u'Thu-1': 1, u'Sat-21': 1, u'Sat-23': 3, u'Mon-12': 1, u'Mon-10': 1, u'Mon-11': 1, u'Mon-17': 3, u'Mon-14': 1, u'Mon-15': 1, u'Mon-18': 1, u'Mon-19': 1, u'Tue-4': 2, u'Wed-21': ...   \n",
      "1                                                                                                                                                                                                                                                                                                                                                                                                                   {u'Mon-13': 1, u'Thu-20': 1, u'Sun-19': 1, u'Wed-17': 1, u'Thu-13': 1, u'Sat-21': 1, u'Sat-16': 1}   \n",
      "2                                                                                                                                                                                                                                                                                                                                                                                                                                   {u'Mon-12': 1, u'Fri-23': 1, u'Sun-22': 1, u'Thu-0': 1, u'Mon-1': 1, u'Sat-16': 1}   \n",
      "3                                                                                                                                                                                                                                                                                                                                                                                                                                                                           {u'Sun-14': 1, u'Mon-20': 1, u'Fri-18': 1}   \n",
      "4                                                                                                                                                                                                                                                                                                                                                                                                                                                {u'Thu-23': 1, u'Sat-21': 1, u'Sat-3': 1, u'Sun-18': 1, u'Sat-23': 1}   \n",
      "\n",
      "   weekday_checkins  weekend_checkins  \n",
      "0                76                75  \n",
      "1                 4                 3  \n",
      "2                 3                 3  \n",
      "3                 1                 2  \n",
      "4                 1                 4  \n"
     ]
    }
   ],
   "source": [
    "print(checkin.head())"
   ]
  },
  {
   "cell_type": "code",
   "execution_count": 8,
   "metadata": {
    "ExecuteTime": {
     "end_time": "2018-09-14T14:51:21.445061Z",
     "start_time": "2018-09-14T14:51:21.435743Z"
    },
    "scrolled": true
   },
   "outputs": [
    {
     "name": "stdout",
     "output_type": "stream",
     "text": [
      "   average_tip_length             business_id  number_tips\n",
      "0           79.000000  --1UhMGODdWsrMastO9DZw            1\n",
      "1           49.857143  --6MefnULPED_I942VcFNA           14\n",
      "2           52.500000  --7zmmkVg-IMGaXbuVd0SQ           10\n",
      "3          136.500000  --9QQLMTbFzLJ_oT-ON3Xw            2\n",
      "4           68.064935  --9e1ONYQuAa-CB_Rrw7Tw          154\n"
     ]
    }
   ],
   "source": [
    "print(tip.head())"
   ]
  },
  {
   "cell_type": "code",
   "execution_count": 9,
   "metadata": {
    "ExecuteTime": {
     "end_time": "2018-09-14T14:51:21.455113Z",
     "start_time": "2018-09-14T14:51:21.446975Z"
    }
   },
   "outputs": [
    {
     "name": "stdout",
     "output_type": "stream",
     "text": [
      "   average_caption_length             business_id  number_pics\n",
      "0                0.000000  --1UhMGODdWsrMastO9DZw            1\n",
      "1               67.500000  --6MefnULPED_I942VcFNA            2\n",
      "2               30.426471  --9e1ONYQuAa-CB_Rrw7Tw          136\n",
      "3                0.000000  --DaPTJW3-tB1vP-PfdTEg            1\n",
      "4                5.500000  --FBCX-N37CMYDfs790Bnw            4\n"
     ]
    }
   ],
   "source": [
    "print(photo.head())"
   ]
  },
  {
   "cell_type": "markdown",
   "metadata": {},
   "source": [
    "How many different businesses are in the dataset? What are the different features in the review DataFrame?"
   ]
  },
  {
   "cell_type": "code",
   "execution_count": 10,
   "metadata": {
    "ExecuteTime": {
     "end_time": "2018-09-14T14:51:21.460856Z",
     "start_time": "2018-09-14T14:51:21.456994Z"
    }
   },
   "outputs": [
    {
     "name": "stdout",
     "output_type": "stream",
     "text": [
      "188593\n"
     ]
    }
   ],
   "source": [
    "print(business.business_id.nunique())"
   ]
  },
  {
   "cell_type": "markdown",
   "metadata": {},
   "source": [
    "What is the range of values for the features in the user DataFrame?"
   ]
  },
  {
   "cell_type": "code",
   "execution_count": 11,
   "metadata": {
    "ExecuteTime": {
     "end_time": "2018-09-14T14:51:21.556908Z",
     "start_time": "2018-09-14T14:51:21.462876Z"
    }
   },
   "outputs": [
    {
     "name": "stdout",
     "output_type": "stream",
     "text": [
      "4860.0\n",
      "76.0\n"
     ]
    }
   ],
   "source": [
    "print(user.average_days_on_yelp.max())\n",
    "print(user.average_days_on_yelp.min())"
   ]
  },
  {
   "cell_type": "markdown",
   "metadata": {},
   "source": [
    "What is the Yelp rating, or `stars`, of the establishment with `business_id` = `5EvUIR4IzCWUOm0PsUZXjA`. Use Pandas boolean indexing to find the Yelp rating, using the syntax below:\n",
    "\n",
    "```python\n",
    "df[df['column_we_know'] == 'value_we_know']['column_we_want']\n",
    "```"
   ]
  },
  {
   "cell_type": "code",
   "execution_count": 12,
   "metadata": {
    "ExecuteTime": {
     "end_time": "2018-09-14T14:51:21.598473Z",
     "start_time": "2018-09-14T14:51:21.559796Z"
    }
   },
   "outputs": [
    {
     "name": "stdout",
     "output_type": "stream",
     "text": [
      "30781    3.0\n",
      "Name: stars, dtype: float64\n"
     ]
    }
   ],
   "source": [
    "b = business[business.business_id == \"5EvUIR4IzCWUOm0PsUZXjA\"]\n",
    "print(b.stars)"
   ]
  },
  {
   "cell_type": "markdown",
   "metadata": {},
   "source": [
    " What feature, or column, do the DataFrames have in common?"
   ]
  },
  {
   "cell_type": "markdown",
   "metadata": {},
   "source": [
    "## Merge the Data\n",
    "\n",
    "Since we are working with data from several files, we need to combine the data into a single DataFrame that allows us to analyze the different features with respect to our target variable, the Yelp rating. We can do this by merging the multiple DataFrames we have together, joining them on the columns they have in common. In our case, this unique identifying column is the `business_id`. We can merge two DataFrames together with the following syntax:\n",
    "\n",
    "```python\n",
    "pd.merge(left, right, how='inner/outer/left/right', on='column(s)_to_merge_on')\n",
    "```\n",
    "* `left` is the DataFrame on the left side of our merge\n",
    "* `right` is the DataFrame on the right side of our merge\n",
    "* `how` describes the style of merge we want to complete (similar to inner/outer/left/right joins in SQL)\n",
    "* `on` is the column or columns to perform the merge on (the column connecting the two tables)\n",
    "\n",
    "Given our six DataFrames, we will need to perform 5 merges to combine all the data into one DataFrame. In the cell below we merged the business table and the review table into a new DataFrame, `df`, for you. After the merge we've added all the rows from `businesses` and `reviews` together, but kept the same total number of rows! Run the cell to perform the merge and confirm the number of rows in `df`. "
   ]
  },
  {
   "cell_type": "code",
   "execution_count": 13,
   "metadata": {},
   "outputs": [
    {
     "name": "stdout",
     "output_type": "stream",
     "text": [
      "188593\n"
     ]
    }
   ],
   "source": [
    "df_5 = pd.merge(business, review, how='left', on='business_id')\n",
    "print(len(df_5))"
   ]
  },
  {
   "cell_type": "markdown",
   "metadata": {},
   "source": [
    "Merge each of the other 4 DataFrames into our new DataFrame `df` to combine all the data together. Make sure that `df` is the left DataFrame in each merge and `how=left` since not every DataFrame includes every business in the dataset (this way we won't lose any data during the merges). Once combined, print out the columns of `df`. What features are in this new DataFrame?"
   ]
  },
  {
   "cell_type": "code",
   "execution_count": 14,
   "metadata": {
    "ExecuteTime": {
     "end_time": "2018-09-14T14:51:24.043166Z",
     "start_time": "2018-09-14T14:51:22.538823Z"
    }
   },
   "outputs": [],
   "source": [
    "df_4 = pd.merge(df_5, user, how=\"left\", on=\"business_id\")\n",
    "df_3 = pd.merge(df_4, checkin, how=\"left\", on=\"business_id\")\n",
    "df_2 = pd.merge(df_3, tip, how=\"left\", on=\"business_id\")\n",
    "df = pd.merge(df_2, photo, how=\"left\", on=\"business_id\")"
   ]
  },
  {
   "cell_type": "code",
   "execution_count": 15,
   "metadata": {},
   "outputs": [
    {
     "name": "stdout",
     "output_type": "stream",
     "text": [
      "Index([u'address', u'alcohol?', u'attributes', u'business_id', u'categories',\n",
      "       u'city', u'good_for_kids', u'has_bike_parking', u'has_wifi', u'hours',\n",
      "       u'is_open', u'latitude', u'longitude', u'name', u'neighborhood',\n",
      "       u'postal_code', u'price_range', u'review_count', u'stars', u'state',\n",
      "       u'take_reservations', u'takes_credit_cards', u'average_review_age',\n",
      "       u'average_review_length', u'average_review_sentiment',\n",
      "       u'number_cool_votes', u'number_funny_votes', u'number_useful_votes',\n",
      "       u'average_days_on_yelp', u'average_number_fans',\n",
      "       u'average_number_friends', u'average_number_years_elite',\n",
      "       u'average_review_count', u'time', u'weekday_checkins',\n",
      "       u'weekend_checkins', u'average_tip_length', u'number_tips',\n",
      "       u'average_caption_length', u'number_pics'],\n",
      "      dtype='object')\n"
     ]
    }
   ],
   "source": [
    "print(df.columns)"
   ]
  },
  {
   "cell_type": "markdown",
   "metadata": {},
   "source": [
    "## Clean the Data\n",
    "\n",
    "We are getting really close to the fun analysis part! We just have to clean our data a bit so we can focus on the features that might have predictive power for determining an establishment's Yelp rating.\n",
    "\n",
    "In a Linear Regression model, our features will ideally be continuous variables that have an affect on our dependent variable, the Yelp rating. For this project with will also be working with some features that are binary, on the scale [0,1]. With this information, we can remove any columns in the dataset that are not continuous or binary, and that we do not want to make predictions on. The cell below contains a list of these unnecessary features. Drop them from `df` with Pandas' drop syntax, provided below:\n",
    "\n",
    "```python\n",
    "df.drop(list_of_features_to_remove, axis=1, inplace=True)\n",
    "```\n",
    "\n",
    "* `list_of_features_to_remove` is, you guessed it, the list of features we want to remove!\n",
    "* `axis=1` lets Pandas know we want to drop columns, not rows, from our DataFrame (axis=0 is used for computations along rows!) \n",
    "* `inplace=True` lets us drop the columns right here in our DataFrame, instead of returning a new DataFrame that we could store in a new variable"
   ]
  },
  {
   "cell_type": "code",
   "execution_count": 16,
   "metadata": {},
   "outputs": [],
   "source": [
    "features_to_remove = ['address','attributes','business_id','categories','city','hours','is_open','latitude','longitude','name','neighborhood','postal_code','state','time']\n",
    "df.drop(features_to_remove, axis=1, inplace=True)"
   ]
  },
  {
   "cell_type": "markdown",
   "metadata": {},
   "source": [
    "Now we just have to check our data to make sure we don't have any missing values, or `NaN`s, which will prevent the Linear Regression model from running correctly. To do this we can use the statement `df.isna().any()`. This will check all of our columns and return `True` if there are any missing values or `NaN`s, or `False` if there are no missing values. Check if `df` is missing any values."
   ]
  },
  {
   "cell_type": "code",
   "execution_count": 17,
   "metadata": {
    "ExecuteTime": {
     "end_time": "2018-09-14T14:51:24.649109Z",
     "start_time": "2018-09-14T14:51:24.581948Z"
    }
   },
   "outputs": [
    {
     "name": "stdout",
     "output_type": "stream",
     "text": [
      "alcohol?                      False\n",
      "good_for_kids                 False\n",
      "has_bike_parking              False\n",
      "has_wifi                      False\n",
      "price_range                   False\n",
      "review_count                  False\n",
      "stars                         False\n",
      "take_reservations             False\n",
      "takes_credit_cards            False\n",
      "average_review_age            False\n",
      "average_review_length         False\n",
      "average_review_sentiment      False\n",
      "number_cool_votes             False\n",
      "number_funny_votes            False\n",
      "number_useful_votes           False\n",
      "average_days_on_yelp          False\n",
      "average_number_fans           False\n",
      "average_number_friends        False\n",
      "average_number_years_elite    False\n",
      "average_review_count          False\n",
      "weekday_checkins               True\n",
      "weekend_checkins               True\n",
      "average_tip_length             True\n",
      "number_tips                    True\n",
      "average_caption_length         True\n",
      "number_pics                    True\n",
      "dtype: bool\n"
     ]
    }
   ],
   "source": [
    "print(df.isna().any())"
   ]
  },
  {
   "cell_type": "markdown",
   "metadata": {},
   "source": [
    "As you can see, there are a few columns with missing values. Since our dataset has no information recorded for some businesses in these columns, we will assume the Yelp pages did not display these features. For example, if there is a `NaN` value for `number_pics`, it means that the associated business did not have any pictures posted on its Yelp page. Thus we can replace all of our `NaN`s with `0`s. To do this we can use the `.fillna()` method, which takes a dictionary as shown below:\n",
    "\n",
    "```python\n",
    "df.fillna({'column_1':val_to_replace_na,\n",
    "           'column_2':val_to_replace_na,\n",
    "           'column_3':val_to_replace_na},\n",
    "          inplace=True)\n",
    "```\n",
    "\n",
    "* `column_1`, `column_2`, and `column_3` are the columns with missing values that we want to fill. We can include as many columns as we like in the dictionary that is passed to `.fill_na()`\n",
    "* `val_to_replace_na` is the value that will replace the missing values, or `NaN`s\n",
    "* `inplace=True` since we want to perform our changes in place and not return a new DataFrame\n",
    "\n",
    "Fill the missing values in `df` with `0`. Afterwards, confirm the missing values have been filled with `df.isna().any()`."
   ]
  },
  {
   "cell_type": "code",
   "execution_count": 18,
   "metadata": {
    "ExecuteTime": {
     "end_time": "2018-09-14T14:51:24.661609Z",
     "start_time": "2018-09-14T14:51:24.650866Z"
    }
   },
   "outputs": [
    {
     "name": "stdout",
     "output_type": "stream",
     "text": [
      "alcohol?                      False\n",
      "good_for_kids                 False\n",
      "has_bike_parking              False\n",
      "has_wifi                      False\n",
      "price_range                   False\n",
      "review_count                  False\n",
      "stars                         False\n",
      "take_reservations             False\n",
      "takes_credit_cards            False\n",
      "average_review_age            False\n",
      "average_review_length         False\n",
      "average_review_sentiment      False\n",
      "number_cool_votes             False\n",
      "number_funny_votes            False\n",
      "number_useful_votes           False\n",
      "average_days_on_yelp          False\n",
      "average_number_fans           False\n",
      "average_number_friends        False\n",
      "average_number_years_elite    False\n",
      "average_review_count          False\n",
      "weekday_checkins              False\n",
      "weekend_checkins              False\n",
      "average_tip_length            False\n",
      "number_tips                   False\n",
      "average_caption_length        False\n",
      "number_pics                   False\n",
      "dtype: bool\n"
     ]
    }
   ],
   "source": [
    "null_cols = []\n",
    "for col in df.columns:\n",
    "    if df[col].isna().any():\n",
    "        null_cols.append(col)\n",
    "df.update(df[null_cols].fillna(0))\n",
    "print(df.isna().any())"
   ]
  },
  {
   "cell_type": "code",
   "execution_count": 19,
   "metadata": {},
   "outputs": [
    {
     "name": "stdout",
     "output_type": "stream",
     "text": [
      "count    188593.000000\n",
      "mean       1175.501021\n",
      "std         659.377141\n",
      "min          71.555556\n",
      "25%         714.666667\n",
      "50%        1075.741627\n",
      "75%        1498.000000\n",
      "max        4727.333333\n",
      "Name: average_review_age, dtype: float64\n"
     ]
    }
   ],
   "source": [
    "print(df.average_review_age.describe())"
   ]
  },
  {
   "cell_type": "markdown",
   "metadata": {},
   "source": [
    "## Exploratory Analysis\n",
    "\n",
    "Now that our data is all together, let's investigate some of the different features to see what might correlate most with our dependent variable, the Yelp rating (called `stars` in our DataFrame). The features with the best correlations could prove to be the most helpful for our Linear Regression model! Pandas DataFrames have a really helpful method, `.corr()`, that allows us to see the correlation coefficients for each pair of our different features. Remember, a correlation of `0` indicates that two features have no linear relationship, a correlation coefficient of `1` indicates two features have a perfect positive linear relationship, and a correlation coefficient of `-1` indicates two features have a perfect negative linear relationship. Call `.corr()` on `df`. You'll see that `number_funny_votes` has a correlation coefficient of `0.001320` with respect to `stars`, our Yelp rating. This is a very weak correlation. What features best correlate, both positively and negatively, with Yelp rating?"
   ]
  },
  {
   "cell_type": "code",
   "execution_count": 20,
   "metadata": {
    "ExecuteTime": {
     "end_time": "2018-09-14T14:51:24.968871Z",
     "start_time": "2018-09-14T14:51:24.725501Z"
    },
    "scrolled": true
   },
   "outputs": [
    {
     "name": "stdout",
     "output_type": "stream",
     "text": [
      "                               stars\n",
      "stars                       1.000000\n",
      "average_review_sentiment    0.782187\n",
      "has_bike_parking            0.068084\n",
      "number_cool_votes           0.043375\n",
      "takes_credit_cards          0.037748\n",
      "review_count                0.032413\n",
      "number_tips                 0.014038\n",
      "weekend_checkins            0.007863\n",
      "weekday_checkins            0.004130\n",
      "number_pics                 0.001727\n",
      "number_funny_votes          0.001320\n",
      "average_caption_length      0.000040\n",
      "number_useful_votes        -0.000066\n",
      "average_number_friends     -0.007629\n",
      "take_reservations          -0.024486\n",
      "good_for_kids              -0.030382\n",
      "average_number_fans        -0.031141\n",
      "average_days_on_yelp       -0.038061\n",
      "has_wifi                   -0.039857\n",
      "alcohol?                   -0.043332\n",
      "price_range                -0.052565\n",
      "average_tip_length         -0.052899\n",
      "average_number_years_elite -0.064419\n",
      "average_review_count       -0.066572\n",
      "average_review_age         -0.125645\n",
      "average_review_length      -0.277081\n"
     ]
    }
   ],
   "source": [
    "corr_df = df.corr()\n",
    "corr_df = corr_df[[\"stars\"]]\n",
    "print(corr_df.sort_values(by=[\"stars\"], ascending=False))"
   ]
  },
  {
   "cell_type": "markdown",
   "metadata": {},
   "source": [
    "To further visualize these relationships, we can plot certain features against our dependent variable, the Yelp rating. In the cell below we have provided the code to import Matplotlib. We can use Matplotlib's `.scatter()` method with the below syntax to plot what these correlations look like:\n",
    "\n",
    "```python\n",
    "plt.scatter(x_values_to_plot, y_values_to_plot, alpha=blending_val)\n",
    "```\n",
    "\n",
    "* `x_values_to_plot` are the values to be plotted along the x-axis\n",
    "* `y_values_to_plot` are the values to be plotted along the y-axis\n",
    "* `alpha=blending_val` is the blending value, or how transparent (0) or opaque (1) a plotted point is. This will help us distinguish areas of the plot with high point densities and low point densities\n",
    "\n",
    "Plot the three features that correlate most with Yelp rating (`average_review_sentiment`, `average_review_length`, `average_review_age`) against `stars`, our Yelp rating. Then plot a lowly correlating feature, such as `number_funny_votes`, against `stars`.\n",
    "\n",
    ">What is `average_review_sentiment`, you ask? `average_review_sentiment` is the average sentiment score for all reviews on a business' Yelp page. The sentiment score for a review was calculated using the sentiment analysis tool [VADER](https://github.com/cjhutto/vaderSentiment). VADER uses a labeled set of positive and negative words, along with codified rules of grammar, to estimate how positive or negative a statement is. Scores range from `-1`, most negative, to `+1`, most positive, with a score of `0` indicating a neutral statement. While not perfect, VADER does a good job at guessing the sentiment of text data!\n",
    "\n",
    "What kind of relationships do you see from the plots? Do you think these variables are good or bad features for our Yelp rating prediction model?"
   ]
  },
  {
   "cell_type": "code",
   "execution_count": 24,
   "metadata": {},
   "outputs": [
    {
     "data": {
      "image/png": "[encoded data removed]",
      "text/plain": [
       "<Figure size 432x288 with 1 Axes>"
      ]
     },
     "metadata": {
      "needs_background": "light"
     },
     "output_type": "display_data"
    }
   ],
   "source": [
    "from matplotlib import pyplot as plt\n",
    "import seaborn as sns\n",
    "# plot average_review_sentiment against stars here\n",
    "X1 = df.average_review_sentiment.to_numpy()\n",
    "y = df.stars.to_numpy()\n",
    "plt.scatter(X1, y, alpha=0.05)\n",
    "plt.xlabel(\"Average_review_sentiment\")\n",
    "plt.ylabel(\"ratings\")\n",
    "plt.show()"
   ]
  },
  {
   "cell_type": "code",
   "execution_count": 25,
   "metadata": {},
   "outputs": [
    {
     "data": {
      "image/png": "[encoded data removed]",
      "text/plain": [
       "<Figure size 432x288 with 1 Axes>"
      ]
     },
     "metadata": {
      "needs_background": "light"
     },
     "output_type": "display_data"
    }
   ],
   "source": [
    "# plot average_review_length against stars here\n",
    "sns.scatterplot(x=\"average_review_length\", y=\"stars\", data=df)\n",
    "plt.show()"
   ]
  },
  {
   "cell_type": "code",
   "execution_count": 26,
   "metadata": {},
   "outputs": [
    {
     "data": {
      "image/png": "[encoded data removed]",
      "text/plain": [
       "<Figure size 432x288 with 1 Axes>"
      ]
     },
     "metadata": {
      "needs_background": "light"
     },
     "output_type": "display_data"
    }
   ],
   "source": [
    "# plot average_review_age against stars here\n",
    "sns.scatterplot(x=\"average_review_age\", y=\"stars\", data=df)\n",
    "plt.show()"
   ]
  },
  {
   "cell_type": "code",
   "execution_count": 27,
   "metadata": {},
   "outputs": [
    {
     "data": {
      "image/png": "[encoded data removed]",
      "text/plain": [
       "<Figure size 432x288 with 1 Axes>"
      ]
     },
     "metadata": {
      "needs_background": "light"
     },
     "output_type": "display_data"
    }
   ],
   "source": [
    "# plot number_funny_votes against stars here\n",
    "sns.scatterplot(x=\"number_funny_votes\", y=\"stars\", data=df)\n",
    "plt.show()"
   ]
  },
  {
   "cell_type": "markdown",
   "metadata": {},
   "source": [
    "**Observe three features in a consolidated look with a *pairplot* from seaborn**"
   ]
  },
  {
   "cell_type": "code",
   "execution_count": 29,
   "metadata": {},
   "outputs": [
    {
     "data": {
      "image/png": "[encoded data removed]",
      "text/plain": [
       "<Figure size 864x360 with 3 Axes>"
      ]
     },
     "metadata": {
      "needs_background": "light"
     },
     "output_type": "display_data"
    }
   ],
   "source": [
    "sns.pairplot(df, x_vars=[\"average_review_sentiment\", \"average_review_length\", \"average_review_age\"], y_vars=[\"stars\"],\n",
    "             height=5, aspect=.8, kind=\"reg\");\n",
    "plt.show()"
   ]
  },
  {
   "cell_type": "markdown",
   "metadata": {},
   "source": [
    "Why do you think `average_review_sentiment` correlates so well with Yelp rating?"
   ]
  },
  {
   "cell_type": "markdown",
   "metadata": {},
   "source": [
    "## Data Selection\n",
    "\n",
    "In order to put our data into a Linear Regression model, we need to separate out our features to model on and the Yelp ratings. From our correlation analysis we saw that the three features with the strongest correlations to Yelp rating are `average_review_sentiment`, `average_review_length`, and `average_review_age`. Since we want to dig a little deeper than `average_review_sentiment`, which understandably has a very high correlation with Yelp rating, let's choose to create our first model with `average_review_length` and `average_review_age` as features.\n",
    "\n",
    "Pandas lets us select one column of a DataFrame with the following syntax:\n",
    "\n",
    "```python\n",
    "subset_of_data = df['feature_to_select']\n",
    "```\n",
    "Pandas also lets us select multiple columns from a DataFrame with this syntax:\n",
    "\n",
    "```python\n",
    "subset_of_data = df[list_of_features_to_select]\n",
    "```\n",
    "Create a new DataFrame `features` that contains the columns we want to model on: `average_review_length` and `average_review_age`. Then create another DataFrame `ratings` that stores the value we want to predict, Yelp rating, or `stars` in `df`."
   ]
  },
  {
   "cell_type": "code",
   "execution_count": 30,
   "metadata": {
    "ExecuteTime": {
     "end_time": "2018-09-14T14:51:57.953014Z",
     "start_time": "2018-09-14T14:51:57.945658Z"
    }
   },
   "outputs": [],
   "source": [
    "features = df[[\"average_review_length\", \"average_review_age\"]]\n",
    "ratings = df[[\"stars\"]]"
   ]
  },
  {
   "cell_type": "markdown",
   "metadata": {},
   "source": [
    "## Split the Data into Training and Testing Sets\n",
    "\n",
    "We are just about ready to model! But first, we need to break our data into a training set and a test set so we can evaluate how well our model performs. We'll use scikit-learn's `train_test_split` function to do this split, which is provided in the cell below. This function takes two required parameters: the data, or our features, followed by our dependent variable, in our case the Yelp rating. Set the optional parameter `test_size` to be `0.2`. Finally, set the optional parameter `random_state` to `1`. This will make it so your data is split in the same way as the data in our solution code. \n",
    "\n",
    "Remember, this function returns 4 items in this order:\n",
    "1. The training data (features), which we can assign to `X_train`\n",
    "2. The testing data (features), which we can assign to `X_test`\n",
    "3. The training dependent variable (Yelp rating), which we can assign to `y_train`\n",
    "4. The testing dependent variable (Yelp rating), which we can assign to `y_test`"
   ]
  },
  {
   "cell_type": "code",
   "execution_count": 31,
   "metadata": {},
   "outputs": [],
   "source": [
    "from sklearn.model_selection import train_test_split\n",
    "train_X, valid_X, train_y, valid_y = train_test_split(features, ratings, test_size=0.2, random_state=1)\n"
   ]
  },
  {
   "cell_type": "code",
   "execution_count": 32,
   "metadata": {},
   "outputs": [
    {
     "name": "stdout",
     "output_type": "stream",
     "text": [
      "        stars\n",
      "27092     5.0\n",
      "127873    3.0\n",
      "30611     3.5\n",
      "53929     2.0\n",
      "17553     4.0\n"
     ]
    }
   ],
   "source": [
    "print(valid_y.head())"
   ]
  },
  {
   "cell_type": "markdown",
   "metadata": {},
   "source": [
    "## Create and Train the Model\n",
    "\n",
    "Now that our data is split into training and testing sets, we can finally model! In the cell below we have provided the code to import `LinearRegression` from scikit-learn's `linear_model` module. Create a new `LinearRegression` object named model. The `.fit()` method will fit our Linear Regression model to our training data and calculate the coefficients for our features. Call the `.fit()` method on `model` with `X_train` and `y_train` as parameters. Just like that our model has now been trained on our training data!"
   ]
  },
  {
   "cell_type": "code",
   "execution_count": 33,
   "metadata": {},
   "outputs": [
    {
     "data": {
      "text/plain": [
       "LinearRegression(copy_X=True, fit_intercept=True, n_jobs=None,\n",
       "         normalize=False)"
      ]
     },
     "execution_count": 33,
     "metadata": {},
     "output_type": "execute_result"
    }
   ],
   "source": [
    "from sklearn.linear_model import LinearRegression\n",
    "model = LinearRegression()\n",
    "model.fit(train_X, train_y)\n"
   ]
  },
  {
   "cell_type": "markdown",
   "metadata": {},
   "source": [
    "## Evaluate and Understand the Model\n",
    "\n",
    "Now we can evaluate our model in a variety of ways. The first way will be by using the `.score()` method, which provides the R^2 value for our model. Remember, R^2 is the coefficient of determination, or a measure of how much of the variance in our dependent variable, the predicted Yelp rating, is explained by our independent variables, our feature data. R^2 values range from `0` to `1`, with `0` indicating that the created model does not fit our data at all, and with `1` indicating the model perfectly fits our feature data. Call `.score()` on our model with `X_train` and `y_train` as parameters to calculate our training R^2 score. Then call `.score()` again on model with `X_test` and `y_test` as parameters to calculate R^2 for our testing data. What do these R^2 values say about our model? Do you think these features alone are able to effectively predict Yelp ratings?"
   ]
  },
  {
   "cell_type": "code",
   "execution_count": 34,
   "metadata": {
    "ExecuteTime": {
     "end_time": "2018-09-14T14:51:58.631827Z",
     "start_time": "2018-09-14T14:51:58.619225Z"
    }
   },
   "outputs": [
    {
     "name": "stdout",
     "output_type": "stream",
     "text": [
      "('R square of the training set is:', 0.08250309566544889)\n",
      "('R square of the validation set is:', 0.08083081210060561)\n"
     ]
    }
   ],
   "source": [
    "print(\"R square of the training set is:\", model.score(train_X, train_y))\n",
    "print(\"R square of the validation set is:\", model.score(valid_X, valid_y))"
   ]
  },
  {
   "cell_type": "markdown",
   "metadata": {},
   "source": [
    "After all that hard work, we can finally take a look at the coefficients on our different features! The model has an attribute `.coef_` which is an array of the feature coefficients determined by fitting our model to the training data. To make it easier for you to see which feature corresponds to which coefficient, we have provided some code in the cell that `zip`s together a list of our features with the coefficients and sorts them in descending order from most predictive to least predictive."
   ]
  },
  {
   "cell_type": "code",
   "execution_count": 35,
   "metadata": {},
   "outputs": [
    {
     "data": {
      "text/plain": [
       "[('average_review_length', array([-0.00099772, -0.00011622]))]"
      ]
     },
     "execution_count": 35,
     "metadata": {},
     "output_type": "execute_result"
    }
   ],
   "source": [
    "sorted(list(zip(['average_review_length','average_review_age'],model.coef_)),key = lambda x: abs(x[1]),reverse=True)"
   ]
  },
  {
   "cell_type": "markdown",
   "metadata": {},
   "source": [
    "Lastly we can calculate the predicted Yelp ratings for our testing data and compare them to their actual Yelp ratings! Our model has a `.predict()` method which uses the model's coefficients to calculate the predicted Yelp rating. Call `.predict()` on `X_test` and assign the values to `y_predicted`. Use Matplotlib to plot `y_test` vs `y_predicted`. For a perfect linear regression model we would expect to see the data plotted along the line `y = x`, indicating homoscedasticity. Is this the case? If not, why not? Would you call this model heteroscedastic or homoscedastic?"
   ]
  },
  {
   "cell_type": "code",
   "execution_count": 36,
   "metadata": {
    "ExecuteTime": {
     "end_time": "2018-09-14T14:51:58.656842Z",
     "start_time": "2018-09-14T14:51:58.653453Z"
    }
   },
   "outputs": [],
   "source": [
    "pred_y= model.predict(valid_X)"
   ]
  },
  {
   "cell_type": "code",
   "execution_count": 37,
   "metadata": {},
   "outputs": [
    {
     "data": {
      "image/png": "[encoded data removed]",
      "text/plain": [
       "<Figure size 432x288 with 1 Axes>"
      ]
     },
     "metadata": {
      "needs_background": "light"
     },
     "output_type": "display_data"
    }
   ],
   "source": [
    "plt.scatter(valid_y, pred_y, alpha=0.25)\n",
    "plt.xlabel('Yelp Rating')\n",
    "plt.ylabel('Predicted Yelp Rating')\n",
    "plt.ylim(1,5)\n",
    "plt.show()"
   ]
  },
  {
   "cell_type": "markdown",
   "metadata": {},
   "source": [
    "predictions have low r^2, however, predictions and actual values of the validation set is really close bringing use homoscedasticity"
   ]
  },
  {
   "cell_type": "markdown",
   "metadata": {},
   "source": [
    "## Define Different Subsets of Data\n",
    "\n",
    "After evaluating the first model, you can see that `average_review_length` and `average_review_age` alone are not the best predictors for Yelp rating. Let's go do some more modeling with different subsets of features and see if we can achieve a more accurate model! In the cells below we have provided different lists of subsets of features that we will model with and evaluate. What other subsets of features would you want to test? Why do you think those feature sets are more predictive of Yelp rating than others? Create at least one more subset of features that you want to predict Yelp ratings from."
   ]
  },
  {
   "cell_type": "code",
   "execution_count": 38,
   "metadata": {},
   "outputs": [],
   "source": [
    "# subset of only average review sentiment\n",
    "sentiment = ['average_review_sentiment']"
   ]
  },
  {
   "cell_type": "code",
   "execution_count": 39,
   "metadata": {},
   "outputs": [],
   "source": [
    "# subset of all features that have a response range [0,1]\n",
    "binary_features = ['alcohol?','has_bike_parking','takes_credit_cards','good_for_kids','take_reservations','has_wifi']"
   ]
  },
  {
   "cell_type": "code",
   "execution_count": 40,
   "metadata": {},
   "outputs": [],
   "source": [
    "# subset of all features that vary on a greater range than [0,1]\n",
    "numeric_features = ['review_count','price_range','average_caption_length','number_pics','average_review_age','average_review_length','average_review_sentiment','number_funny_votes','number_cool_votes','number_useful_votes','average_tip_length','number_tips','average_number_friends','average_days_on_yelp','average_number_fans','average_review_count','average_number_years_elite','weekday_checkins','weekend_checkins']"
   ]
  },
  {
   "cell_type": "code",
   "execution_count": 41,
   "metadata": {},
   "outputs": [],
   "source": [
    "# all features\n",
    "all_features = binary_features + numeric_features"
   ]
  },
  {
   "cell_type": "code",
   "execution_count": 52,
   "metadata": {},
   "outputs": [],
   "source": [
    "# features having the most effect when determining stars\n",
    "feature_subset = [\"average_review_sentiment\", \"has_bike_parking\", \"number_cool_votes\", \"takes_credit_cards\", \"review_count\", \"good_for_kids\", \"average_number_fans\", \"average_days_on_yelp\", \"has_wifi\", \"alcohol?\", \"price_range\", \"average_tip_length\", \"average_number_years_elite\", \"average_review_count\", \"average_review_age\", \"average_review_length\"]\n"
   ]
  },
  {
   "cell_type": "markdown",
   "metadata": {},
   "source": [
    "## Further Modeling"
   ]
  },
  {
   "cell_type": "markdown",
   "metadata": {},
   "source": [
    "Now that we have lists of different feature subsets, we can create new models from them. In order to more easily compare the performance of these new models, we have created a function for you below called `model_these_features()`. This function replicates the model building process you just completed with our first model! Take some time to review how the function works, analyzing it line by line. Fill in the empty comments with an explanation of the task the code beneath it is performing."
   ]
  },
  {
   "cell_type": "code",
   "execution_count": 44,
   "metadata": {},
   "outputs": [],
   "source": [
    "import numpy as np\n",
    "from sklearn.metrics import mean_absolute_error, mean_squared_error\n",
    "\n",
    "# take a list of features to model as a parameter\n",
    "def model_these_features(feature_list):\n",
    "    \n",
    "    # determine dependent and independent variables\n",
    "    ratings = df.loc[:,'stars']\n",
    "    features = df.loc[:,feature_list]\n",
    "    \n",
    "    # split data into training and test set\n",
    "    X_train, X_test, y_train, y_test = train_test_split(features, ratings, test_size = 0.2, random_state = 1)\n",
    "    \n",
    "    # don't worry too much about these lines, just know that they allow the model to work when\n",
    "    # we model on just one feature instead of multiple features. Trust us on this one :)\n",
    "    if len(X_train.shape) < 2:\n",
    "        X_train = np.array(X_train).reshape(-1,1)\n",
    "        X_test = np.array(X_test).reshape(-1,1)\n",
    "    \n",
    "    # create regression model and train the model\n",
    "    model = LinearRegression()\n",
    "    model.fit(X_train,y_train)\n",
    "    \n",
    "    # look at the R^2 of each splitted set(train, test)\n",
    "    print('Train Score:', model.score(X_train,y_train))\n",
    "    print('Test Score:', model.score(X_test,y_test))\n",
    "    \n",
    "    # print the model features and their corresponding coefficients, from most predictive to least predictive\n",
    "    print(sorted(list(zip(feature_list,model.coef_)),key = lambda x: abs(x[1]),reverse=True))\n",
    "    \n",
    "    # predict values for test set\n",
    "    y_predicted = model.predict(X_test)\n",
    "    \n",
    "    #look at some metrics of the model\n",
    "    print(\"Mean absolute error is:\", mean_absolute_error(y_test,y_predicted))\n",
    "    print(\"Mean squared error is\", mean_squared_error(y_test,y_predicted))\n",
    "    print(\"Root mean squared error is\", mean_squared_error(y_test,y_predicted)**0.5)\n",
    "    \n",
    "    # look at the predictions VS actual values of test set\n",
    "    plt.scatter(y_test,y_predicted)\n",
    "    plt.xlabel('Yelp Rating')\n",
    "    plt.ylabel('Predicted Yelp Rating')\n",
    "    plt.ylim(1,5)\n",
    "    plt.show()"
   ]
  },
  {
   "cell_type": "markdown",
   "metadata": {},
   "source": [
    "Once you feel comfortable with the steps of the function, run models on the following subsets of data using `model_these_features()`:\n",
    "* `sentiment`: only `average_review_sentiment`\n",
    "* `binary_features`: all features that have a response range [0,1]\n",
    "* `numeric_features`: all features that vary on a greater range than [0,1]\n",
    "* `all_features`: all features\n",
    "* `feature_subset`: your own feature subset\n",
    "\n",
    "How does changing the feature sets affect the model's R^2 value? Which features are most important to predicting Yelp rating in the different models? Which models appear more or less homoscedastic?"
   ]
  },
  {
   "cell_type": "code",
   "execution_count": 45,
   "metadata": {},
   "outputs": [
    {
     "name": "stdout",
     "output_type": "stream",
     "text": [
      "('Train Score:', 0.6118980950438655)\n",
      "('Test Score:', 0.6114021046919491)\n",
      "[('average_review_sentiment', 2.3033908433749835)]\n",
      "('Mean absolute error is:', 0.492259702387631)\n",
      "('Mean squared error is', 0.4005095390880237)\n",
      "('Root mean squared error is', 0.632858229849327)\n"
     ]
    },
    {
     "data": {
      "image/png": "[encoded data removed]",
      "text/plain": [
       "<Figure size 432x288 with 1 Axes>"
      ]
     },
     "metadata": {
      "needs_background": "light"
     },
     "output_type": "display_data"
    }
   ],
   "source": [
    "# create a model on sentiment here\n",
    "model_these_features(sentiment)"
   ]
  },
  {
   "cell_type": "code",
   "execution_count": 46,
   "metadata": {},
   "outputs": [
    {
     "name": "stdout",
     "output_type": "stream",
     "text": [
      "('Train Score:', 0.012223180709591386)\n",
      "('Test Score:', 0.010119542202269294)\n",
      "[('has_bike_parking', 0.19003008208035765), ('alcohol?', -0.14549670708133194), ('has_wifi', -0.13187397577760382), ('good_for_kids', -0.08632485990336292), ('takes_credit_cards', 0.07175536492192806), ('take_reservations', 0.045265585304509234)]\n",
      "('Mean absolute error is:', 0.8245757891414282)\n",
      "('Mean squared error is', 1.0202231424607444)\n",
      "('Root mean squared error is', 1.0100609597745793)\n"
     ]
    },
    {
     "data": {
      "image/png": "[encoded data removed]",
      "text/plain": [
       "<Figure size 432x288 with 1 Axes>"
      ]
     },
     "metadata": {
      "needs_background": "light"
     },
     "output_type": "display_data"
    }
   ],
   "source": [
    "# create a model on all binary features here\n",
    "model_these_features(binary_features)"
   ]
  },
  {
   "cell_type": "code",
   "execution_count": 47,
   "metadata": {},
   "outputs": [
    {
     "name": "stdout",
     "output_type": "stream",
     "text": [
      "('Train Score:', 0.673499259376666)\n",
      "('Test Score:', 0.671331879812015)\n",
      "[('average_review_sentiment', 2.2721076642096114), ('price_range', -0.08046080962701027), ('average_number_years_elite', -0.07190366288054291), ('average_caption_length', -0.003347066007783732), ('number_pics', -0.0029565028128942664), ('number_tips', -0.0015953050789024783), ('number_cool_votes', 0.0011468839227090077), ('average_number_fans', 0.001051060209741957), ('average_review_length', -0.0005813655692092161), ('average_tip_length', -0.0005322032063459828), ('number_useful_votes', -0.00023203784758737273), ('average_review_count', -0.0002243170289500615), ('average_review_age', -0.00016930608165059073), ('average_days_on_yelp', 0.00012878025876676344), ('weekday_checkins', 5.9185807544930025e-05), ('weekend_checkins', -5.5181762070165286e-05), ('average_number_friends', 4.826992111602079e-05), ('review_count', -3.483483763805585e-05), ('number_funny_votes', -7.88439567382497e-06)]\n",
      "('Mean absolute error is:', 0.4345919472259033)\n",
      "('Mean squared error is', 0.33874274389743425)\n",
      "('Root mean squared error is', 0.5820161027819026)\n"
     ]
    },
    {
     "data": {
      "image/png": "[encoded data removed]",
      "text/plain": [
       "<Figure size 432x288 with 1 Axes>"
      ]
     },
     "metadata": {
      "needs_background": "light"
     },
     "output_type": "display_data"
    }
   ],
   "source": [
    "# create a model on all numeric features here\n",
    "model_these_features(numeric_features)"
   ]
  },
  {
   "cell_type": "code",
   "execution_count": 48,
   "metadata": {},
   "outputs": [
    {
     "name": "stdout",
     "output_type": "stream",
     "text": [
      "('Train Score:', 0.6807828861895334)\n",
      "('Test Score:', 0.678212904586925)\n",
      "[('average_review_sentiment', 2.2808456996623874), ('alcohol?', -0.14991498593468117), ('has_wifi', -0.12155382629260124), ('good_for_kids', -0.11807814422010728), ('price_range', -0.06486730150043174), ('average_number_years_elite', -0.06278939713895286), ('has_bike_parking', 0.027296969912245894), ('takes_credit_cards', 0.024451837853638306), ('take_reservations', 0.014134559172971652), ('number_pics', -0.0013133612300793), ('average_number_fans', 0.0010267986822657786), ('number_cool_votes', 0.0009723722734409678), ('number_tips', -0.0008546563320869025), ('average_caption_length', -0.0006472749798183682), ('average_review_length', -0.0005896257920272462), ('average_tip_length', -0.0004205217503404535), ('number_useful_votes', -0.00027150641256145844), ('average_review_count', -0.00023398356902510405), ('average_review_age', -0.0001577654411132473), ('average_days_on_yelp', 0.0001232614766288418), ('review_count', 0.00010112259377353678), ('weekend_checkins', -9.239617469638736e-05), ('weekday_checkins', 6.153909123142887e-05), ('number_funny_votes', 4.847935102492845e-05), ('average_number_friends', 2.069584037372573e-05)]\n",
      "('Mean absolute error is:', 0.42566801098057383)\n",
      "('Mean squared error is', 0.33165079591128316)\n",
      "('Root mean squared error is', 0.5758913056396)\n"
     ]
    },
    {
     "data": {
      "image/png": "[encoded data removed]",
      "text/plain": [
       "<Figure size 432x288 with 1 Axes>"
      ]
     },
     "metadata": {
      "needs_background": "light"
     },
     "output_type": "display_data"
    }
   ],
   "source": [
    "# create a model on all features here\n",
    "model_these_features(all_features)"
   ]
  },
  {
   "cell_type": "code",
   "execution_count": 53,
   "metadata": {},
   "outputs": [
    {
     "name": "stdout",
     "output_type": "stream",
     "text": [
      "('Train Score:', 0.6801409275615278)\n",
      "('Test Score:', 0.6776641994736434)\n",
      "[('average_review_sentiment', 2.2858050931208624), ('alcohol?', -0.14903143089157575), ('has_wifi', -0.12500389483218088), ('good_for_kids', -0.11987943299414264), ('price_range', -0.06433165764200684), ('average_number_years_elite', -0.06174836794517033), ('has_bike_parking', 0.02572631325869655), ('takes_credit_cards', 0.024386537956756174), ('average_number_fans', 0.0011758419031629292), ('average_review_length', -0.000593784351419397), ('average_tip_length', -0.0004369837540735933), ('number_cool_votes', 0.00039822595782159926), ('average_review_count', -0.00024079005162240107), ('average_review_age', -0.00015888808874404124), ('review_count', -0.00015606495450280582), ('average_days_on_yelp', 0.00012420502551642454)]\n",
      "('Mean absolute error is:', 0.42626418883918227)\n",
      "('Mean squared error is', 0.3322163204153246)\n",
      "('Root mean squared error is', 0.5763820958490337)\n"
     ]
    },
    {
     "data": {
      "image/png": "[encoded data removed]",
      "text/plain": [
       "<Figure size 432x288 with 1 Axes>"
      ]
     },
     "metadata": {
      "needs_background": "light"
     },
     "output_type": "display_data"
    }
   ],
   "source": [
    "# create a model on your feature subset here\n",
    "model_these_features(feature_subset)"
   ]
  },
  {
   "cell_type": "markdown",
   "metadata": {},
   "source": [
    "## Danielle's Delicious Delicacies' Debut\n",
    "\n",
    "You've loaded the data, cleaned it, modeled it, and evaluated it. You're tired, but glowing with pride after all the hard work. You close your eyes and can clearly see opening day of Danielle's Delicious Delicacies with a line out the door. But what will your Yelp rating be? Let's use our model to make a prediction.\n",
    "\n",
    "Our best model was the model using all features, so we'll work with this model again. In the cell below print `all_features` to get a reminder of what features we are working with."
   ]
  },
  {
   "cell_type": "code",
   "execution_count": 54,
   "metadata": {
    "ExecuteTime": {
     "end_time": "2018-09-14T14:52:25.658575Z",
     "start_time": "2018-09-14T14:52:25.654756Z"
    }
   },
   "outputs": [
    {
     "name": "stdout",
     "output_type": "stream",
     "text": [
      "['alcohol?', 'has_bike_parking', 'takes_credit_cards', 'good_for_kids', 'take_reservations', 'has_wifi', 'review_count', 'price_range', 'average_caption_length', 'number_pics', 'average_review_age', 'average_review_length', 'average_review_sentiment', 'number_funny_votes', 'number_cool_votes', 'number_useful_votes', 'average_tip_length', 'number_tips', 'average_number_friends', 'average_days_on_yelp', 'average_number_fans', 'average_review_count', 'average_number_years_elite', 'weekday_checkins', 'weekend_checkins']\n"
     ]
    }
   ],
   "source": [
    "print(all_features)"
   ]
  },
  {
   "cell_type": "markdown",
   "metadata": {},
   "source": [
    "Run the cell below to grab all the features and retrain our model on them."
   ]
  },
  {
   "cell_type": "code",
   "execution_count": 55,
   "metadata": {},
   "outputs": [
    {
     "data": {
      "text/plain": [
       "LinearRegression(copy_X=True, fit_intercept=True, n_jobs=None,\n",
       "         normalize=False)"
      ]
     },
     "execution_count": 55,
     "metadata": {},
     "output_type": "execute_result"
    }
   ],
   "source": [
    "features = df.loc[:,all_features]\n",
    "ratings = df.loc[:,'stars']\n",
    "X_train, X_test, y_train, y_test = train_test_split(features, ratings, test_size = 0.2, random_state = 1)\n",
    "model = LinearRegression()\n",
    "model.fit(X_train,y_train)"
   ]
  },
  {
   "cell_type": "markdown",
   "metadata": {},
   "source": [
    "To give you some perspective on the restaurants already out there, we have provided the mean, minimum, and maximum values for each feature below. Will Danielle's Delicious Delicacies be just another average restaurant, or will it be a 5 star behemoth amongst the masses?"
   ]
  },
  {
   "cell_type": "code",
   "execution_count": 56,
   "metadata": {},
   "outputs": [
    {
     "data": {
      "text/html": [
       "<div>\n",
       "<style scoped>\n",
       "    .dataframe tbody tr th:only-of-type {\n",
       "        vertical-align: middle;\n",
       "    }\n",
       "\n",
       "    .dataframe tbody tr th {\n",
       "        vertical-align: top;\n",
       "    }\n",
       "\n",
       "    .dataframe thead th {\n",
       "        text-align: right;\n",
       "    }\n",
       "</style>\n",
       "<table border=\"1\" class=\"dataframe\">\n",
       "  <thead>\n",
       "    <tr style=\"text-align: right;\">\n",
       "      <th></th>\n",
       "      <th>Feature</th>\n",
       "      <th>Mean</th>\n",
       "      <th>Min</th>\n",
       "      <th>Max</th>\n",
       "    </tr>\n",
       "  </thead>\n",
       "  <tbody>\n",
       "    <tr>\n",
       "      <th>0</th>\n",
       "      <td>alcohol?</td>\n",
       "      <td>0.140610</td>\n",
       "      <td>0.000000</td>\n",
       "      <td>1.000000</td>\n",
       "    </tr>\n",
       "    <tr>\n",
       "      <th>1</th>\n",
       "      <td>has_bike_parking</td>\n",
       "      <td>0.350692</td>\n",
       "      <td>0.000000</td>\n",
       "      <td>1.000000</td>\n",
       "    </tr>\n",
       "    <tr>\n",
       "      <th>2</th>\n",
       "      <td>takes_credit_cards</td>\n",
       "      <td>0.700243</td>\n",
       "      <td>0.000000</td>\n",
       "      <td>1.000000</td>\n",
       "    </tr>\n",
       "    <tr>\n",
       "      <th>3</th>\n",
       "      <td>good_for_kids</td>\n",
       "      <td>0.279029</td>\n",
       "      <td>0.000000</td>\n",
       "      <td>1.000000</td>\n",
       "    </tr>\n",
       "    <tr>\n",
       "      <th>4</th>\n",
       "      <td>take_reservations</td>\n",
       "      <td>0.106086</td>\n",
       "      <td>0.000000</td>\n",
       "      <td>1.000000</td>\n",
       "    </tr>\n",
       "    <tr>\n",
       "      <th>5</th>\n",
       "      <td>has_wifi</td>\n",
       "      <td>0.134968</td>\n",
       "      <td>0.000000</td>\n",
       "      <td>1.000000</td>\n",
       "    </tr>\n",
       "    <tr>\n",
       "      <th>6</th>\n",
       "      <td>review_count</td>\n",
       "      <td>31.797310</td>\n",
       "      <td>3.000000</td>\n",
       "      <td>7968.000000</td>\n",
       "    </tr>\n",
       "    <tr>\n",
       "      <th>7</th>\n",
       "      <td>price_range</td>\n",
       "      <td>1.035855</td>\n",
       "      <td>0.000000</td>\n",
       "      <td>4.000000</td>\n",
       "    </tr>\n",
       "    <tr>\n",
       "      <th>8</th>\n",
       "      <td>average_caption_length</td>\n",
       "      <td>2.831829</td>\n",
       "      <td>0.000000</td>\n",
       "      <td>140.000000</td>\n",
       "    </tr>\n",
       "    <tr>\n",
       "      <th>9</th>\n",
       "      <td>number_pics</td>\n",
       "      <td>1.489939</td>\n",
       "      <td>0.000000</td>\n",
       "      <td>1150.000000</td>\n",
       "    </tr>\n",
       "    <tr>\n",
       "      <th>10</th>\n",
       "      <td>average_review_age</td>\n",
       "      <td>1175.501021</td>\n",
       "      <td>71.555556</td>\n",
       "      <td>4727.333333</td>\n",
       "    </tr>\n",
       "    <tr>\n",
       "      <th>11</th>\n",
       "      <td>average_review_length</td>\n",
       "      <td>596.463567</td>\n",
       "      <td>62.400000</td>\n",
       "      <td>4229.000000</td>\n",
       "    </tr>\n",
       "    <tr>\n",
       "      <th>12</th>\n",
       "      <td>average_review_sentiment</td>\n",
       "      <td>0.554935</td>\n",
       "      <td>-0.995200</td>\n",
       "      <td>0.996575</td>\n",
       "    </tr>\n",
       "    <tr>\n",
       "      <th>13</th>\n",
       "      <td>number_funny_votes</td>\n",
       "      <td>15.617091</td>\n",
       "      <td>0.000000</td>\n",
       "      <td>36822.000000</td>\n",
       "    </tr>\n",
       "    <tr>\n",
       "      <th>14</th>\n",
       "      <td>number_cool_votes</td>\n",
       "      <td>18.495973</td>\n",
       "      <td>0.000000</td>\n",
       "      <td>6572.000000</td>\n",
       "    </tr>\n",
       "    <tr>\n",
       "      <th>15</th>\n",
       "      <td>number_useful_votes</td>\n",
       "      <td>43.515279</td>\n",
       "      <td>0.000000</td>\n",
       "      <td>38357.000000</td>\n",
       "    </tr>\n",
       "    <tr>\n",
       "      <th>16</th>\n",
       "      <td>average_tip_length</td>\n",
       "      <td>45.643426</td>\n",
       "      <td>0.000000</td>\n",
       "      <td>500.000000</td>\n",
       "    </tr>\n",
       "    <tr>\n",
       "      <th>17</th>\n",
       "      <td>number_tips</td>\n",
       "      <td>6.285217</td>\n",
       "      <td>0.000000</td>\n",
       "      <td>3581.000000</td>\n",
       "    </tr>\n",
       "    <tr>\n",
       "      <th>18</th>\n",
       "      <td>average_number_friends</td>\n",
       "      <td>105.132000</td>\n",
       "      <td>1.000000</td>\n",
       "      <td>4219.000000</td>\n",
       "    </tr>\n",
       "    <tr>\n",
       "      <th>19</th>\n",
       "      <td>average_days_on_yelp</td>\n",
       "      <td>2005.367009</td>\n",
       "      <td>76.000000</td>\n",
       "      <td>4860.000000</td>\n",
       "    </tr>\n",
       "    <tr>\n",
       "      <th>20</th>\n",
       "      <td>average_number_fans</td>\n",
       "      <td>11.590148</td>\n",
       "      <td>0.000000</td>\n",
       "      <td>1174.666667</td>\n",
       "    </tr>\n",
       "    <tr>\n",
       "      <th>21</th>\n",
       "      <td>average_review_count</td>\n",
       "      <td>122.110660</td>\n",
       "      <td>0.666667</td>\n",
       "      <td>6335.000000</td>\n",
       "    </tr>\n",
       "    <tr>\n",
       "      <th>22</th>\n",
       "      <td>average_number_years_elite</td>\n",
       "      <td>0.923313</td>\n",
       "      <td>0.000000</td>\n",
       "      <td>10.666667</td>\n",
       "    </tr>\n",
       "    <tr>\n",
       "      <th>23</th>\n",
       "      <td>weekday_checkins</td>\n",
       "      <td>45.385094</td>\n",
       "      <td>0.000000</td>\n",
       "      <td>73830.000000</td>\n",
       "    </tr>\n",
       "    <tr>\n",
       "      <th>24</th>\n",
       "      <td>weekend_checkins</td>\n",
       "      <td>49.612515</td>\n",
       "      <td>0.000000</td>\n",
       "      <td>64647.000000</td>\n",
       "    </tr>\n",
       "  </tbody>\n",
       "</table>\n",
       "</div>"
      ],
      "text/plain": [
       "                       Feature         Mean        Min           Max\n",
       "0                     alcohol?     0.140610   0.000000      1.000000\n",
       "1             has_bike_parking     0.350692   0.000000      1.000000\n",
       "2           takes_credit_cards     0.700243   0.000000      1.000000\n",
       "3                good_for_kids     0.279029   0.000000      1.000000\n",
       "4            take_reservations     0.106086   0.000000      1.000000\n",
       "5                     has_wifi     0.134968   0.000000      1.000000\n",
       "6                 review_count    31.797310   3.000000   7968.000000\n",
       "7                  price_range     1.035855   0.000000      4.000000\n",
       "8       average_caption_length     2.831829   0.000000    140.000000\n",
       "9                  number_pics     1.489939   0.000000   1150.000000\n",
       "10          average_review_age  1175.501021  71.555556   4727.333333\n",
       "11       average_review_length   596.463567  62.400000   4229.000000\n",
       "12    average_review_sentiment     0.554935  -0.995200      0.996575\n",
       "13          number_funny_votes    15.617091   0.000000  36822.000000\n",
       "14           number_cool_votes    18.495973   0.000000   6572.000000\n",
       "15         number_useful_votes    43.515279   0.000000  38357.000000\n",
       "16          average_tip_length    45.643426   0.000000    500.000000\n",
       "17                 number_tips     6.285217   0.000000   3581.000000\n",
       "18      average_number_friends   105.132000   1.000000   4219.000000\n",
       "19        average_days_on_yelp  2005.367009  76.000000   4860.000000\n",
       "20         average_number_fans    11.590148   0.000000   1174.666667\n",
       "21        average_review_count   122.110660   0.666667   6335.000000\n",
       "22  average_number_years_elite     0.923313   0.000000     10.666667\n",
       "23            weekday_checkins    45.385094   0.000000  73830.000000\n",
       "24            weekend_checkins    49.612515   0.000000  64647.000000"
      ]
     },
     "execution_count": 56,
     "metadata": {},
     "output_type": "execute_result"
    }
   ],
   "source": [
    "pd.DataFrame(list(zip(features.columns,features.describe().loc['mean'],features.describe().loc['min'],features.describe().loc['max'])),columns=['Feature','Mean','Min','Max'])"
   ]
  },
  {
   "cell_type": "markdown",
   "metadata": {},
   "source": [
    "Based on your plans for the restaurant, how you expect your customers to post on your Yelp page, and the values above, fill in the blanks in the NumPy array below with your desired values. The first blank corresponds with the feature at `index=0` in the DataFrame above, `alcohol?`, and the last blank corresponds to the feature at ``index=24``, `weekend_checkins`. Make sure to enter either `0` or `1` for all binary features, and if you aren't sure of what value to put for a feature, select the mean from the DataFrame above. After you enter the values, run the prediction cell below to receive your Yelp rating! How is Danielle's Delicious Delicacies debut going to be?"
   ]
  },
  {
   "cell_type": "code",
   "execution_count": 57,
   "metadata": {
    "ExecuteTime": {
     "end_time": "2018-09-13T18:35:02.243266Z",
     "start_time": "2018-09-13T18:34:39.238Z"
    }
   },
   "outputs": [],
   "source": [
    "danielles_delicious_delicacies = np.array([1,1,1,1,1,1,0,3,2.83,20,1175,596,0.7,15,18,43,45,6,100,0,11,122,1,45,49]).reshape(1,-1)"
   ]
  },
  {
   "cell_type": "code",
   "execution_count": 58,
   "metadata": {
    "ExecuteTime": {
     "end_time": "2018-09-13T18:35:02.244175Z",
     "start_time": "2018-09-13T18:34:39.239Z"
    }
   },
   "outputs": [
    {
     "data": {
      "text/plain": [
       "array([3.27203113])"
      ]
     },
     "execution_count": 58,
     "metadata": {},
     "output_type": "execute_result"
    }
   ],
   "source": [
    "model.predict(danielles_delicious_delicacies)"
   ]
  },
  {
   "cell_type": "markdown",
   "metadata": {},
   "source": [
    "## Next Steps\n",
    "\n",
    "You have successfully built a linear regression model that predicts a restaurant's Yelp rating! As you have seen, it can be pretty hard to predict a rating like this even when we have a plethora of data. What other questions come to your mind when you see the data we have? What insights do you think could come from a different kind of analysis? Here are some ideas to ponder:\n",
    "\n",
    "* Can we predict the cuisine of a restaurant based on the users that review it?\n",
    "* What restaurants are similar to each other in ways besides cuisine?\n",
    "* Are there different restaurant vibes, and what kind of restaurants fit these conceptions?\n",
    "* How does social media status affect a restaurant's credibility and visibility?\n",
    "\n",
    "As you progress further into the field of data science, you will be able to create models that address these questions and many more! But in the meantime, get back to working on that burgeoning restaurant business plan."
   ]
  }
 ],
 "metadata": {
  "kernelspec": {
   "display_name": "Python 2",
   "language": "python",
   "name": "python2"
  },
  "language_info": {
   "codemirror_mode": {
    "name": "ipython",
    "version": 2
   },
   "file_extension": ".py",
   "mimetype": "text/x-python",
   "name": "python",
   "nbconvert_exporter": "python",
   "pygments_lexer": "ipython2",
   "version": "2.7.16"
  }
 },
 "nbformat": 4,
 "nbformat_minor": 2
}
